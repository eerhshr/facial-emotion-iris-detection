{
  "nbformat": 4,
  "nbformat_minor": 0,
  "metadata": {
    "colab": {
      "name": "FER - FullNotebook",
      "provenance": [],
      "collapsed_sections": []
    },
    "kernelspec": {
      "name": "python3",
      "display_name": "Python 3"
    },
    "language_info": {
      "name": "python"
    },
    "accelerator": "GPU"
  },
  "cells": [
    {
      "cell_type": "code",
      "metadata": {
        "id": "p1f55CaZCmbM",
        "colab": {
          "base_uri": "https://localhost:8080/"
        },
        "outputId": "dfe614ee-9bc7-46e7-8833-0351a59b8f5a"
      },
      "source": [
        "from google.colab import drive\n",
        "drive.mount(('/content/drive'))"
      ],
      "execution_count": 8,
      "outputs": [
        {
          "output_type": "stream",
          "text": [
            "Mounted at /content/drive\n"
          ],
          "name": "stdout"
        }
      ]
    },
    {
      "cell_type": "code",
      "metadata": {
        "id": "Yb1_2aIUC7io",
        "colab": {
          "base_uri": "https://localhost:8080/"
        },
        "outputId": "a180543f-4474-4f14-8cf7-152ac5aaffb1"
      },
      "source": [
        "!ls"
      ],
      "execution_count": 9,
      "outputs": [
        {
          "output_type": "stream",
          "text": [
            "drive  sample_data\n"
          ],
          "name": "stdout"
        }
      ]
    },
    {
      "cell_type": "code",
      "metadata": {
        "colab": {
          "base_uri": "https://localhost:8080/"
        },
        "id": "DoCDerBN9s6u",
        "outputId": "19d4f41a-83c2-4488-b081-cdcb117a82bd"
      },
      "source": [
        "%cd /content/drive/MyDrive/facial_expression/"
      ],
      "execution_count": 10,
      "outputs": [
        {
          "output_type": "stream",
          "text": [
            "/content/drive/MyDrive/facial_expression\n"
          ],
          "name": "stdout"
        }
      ]
    },
    {
      "cell_type": "code",
      "metadata": {
        "id": "bAhcYuxz91BP"
      },
      "source": [
        "import os\n",
        "import numpy as np\n",
        "import pandas as pd\n",
        "import tensorflow as tf\n",
        "import matplotlib.pyplot as plt\n",
        "from matplotlib import pyplot\n",
        "from PIL import Image"
      ],
      "execution_count": 11,
      "outputs": []
    },
    {
      "cell_type": "code",
      "metadata": {
        "id": "fBUM84GRV34X"
      },
      "source": [
        "import tensorflow as tf\n",
        "from tensorflow import keras\n",
        "from tensorflow.keras import layers\n",
        "from keras.preprocessing.image import ImageDataGenerator, load_img\n",
        "from keras.layers import Conv2D, Dense, BatchNormalization, Activation, Dropout, MaxPooling2D, Flatten\n",
        "from keras.optimizers import Adam, RMSprop, SGD\n",
        "from keras import regularizers"
      ],
      "execution_count": 12,
      "outputs": []
    },
    {
      "cell_type": "markdown",
      "metadata": {
        "id": "SnwO7D_QZvpa"
      },
      "source": [
        "## Separating data"
      ]
    },
    {
      "cell_type": "code",
      "metadata": {
        "colab": {
          "base_uri": "https://localhost:8080/",
          "height": 206
        },
        "id": "7iDTTPPO-Owm",
        "outputId": "76dfcb00-90ff-4eac-e696-78bb705c8113"
      },
      "source": [
        "data_org = pd.read_csv(\"fer2013/fer2013.csv\")\n",
        "data_org.head()"
      ],
      "execution_count": null,
      "outputs": [
        {
          "output_type": "execute_result",
          "data": {
            "text/html": [
              "<div>\n",
              "<style scoped>\n",
              "    .dataframe tbody tr th:only-of-type {\n",
              "        vertical-align: middle;\n",
              "    }\n",
              "\n",
              "    .dataframe tbody tr th {\n",
              "        vertical-align: top;\n",
              "    }\n",
              "\n",
              "    .dataframe thead th {\n",
              "        text-align: right;\n",
              "    }\n",
              "</style>\n",
              "<table border=\"1\" class=\"dataframe\">\n",
              "  <thead>\n",
              "    <tr style=\"text-align: right;\">\n",
              "      <th></th>\n",
              "      <th>emotion</th>\n",
              "      <th>pixels</th>\n",
              "      <th>Usage</th>\n",
              "    </tr>\n",
              "  </thead>\n",
              "  <tbody>\n",
              "    <tr>\n",
              "      <th>0</th>\n",
              "      <td>0</td>\n",
              "      <td>70 80 82 72 58 58 60 63 54 58 60 48 89 115 121...</td>\n",
              "      <td>Training</td>\n",
              "    </tr>\n",
              "    <tr>\n",
              "      <th>1</th>\n",
              "      <td>0</td>\n",
              "      <td>151 150 147 155 148 133 111 140 170 174 182 15...</td>\n",
              "      <td>Training</td>\n",
              "    </tr>\n",
              "    <tr>\n",
              "      <th>2</th>\n",
              "      <td>2</td>\n",
              "      <td>231 212 156 164 174 138 161 173 182 200 106 38...</td>\n",
              "      <td>Training</td>\n",
              "    </tr>\n",
              "    <tr>\n",
              "      <th>3</th>\n",
              "      <td>4</td>\n",
              "      <td>24 32 36 30 32 23 19 20 30 41 21 22 32 34 21 1...</td>\n",
              "      <td>Training</td>\n",
              "    </tr>\n",
              "    <tr>\n",
              "      <th>4</th>\n",
              "      <td>6</td>\n",
              "      <td>4 0 0 0 0 0 0 0 0 0 0 0 3 15 23 28 48 50 58 84...</td>\n",
              "      <td>Training</td>\n",
              "    </tr>\n",
              "  </tbody>\n",
              "</table>\n",
              "</div>"
            ],
            "text/plain": [
              "   emotion                                             pixels     Usage\n",
              "0        0  70 80 82 72 58 58 60 63 54 58 60 48 89 115 121...  Training\n",
              "1        0  151 150 147 155 148 133 111 140 170 174 182 15...  Training\n",
              "2        2  231 212 156 164 174 138 161 173 182 200 106 38...  Training\n",
              "3        4  24 32 36 30 32 23 19 20 30 41 21 22 32 34 21 1...  Training\n",
              "4        6  4 0 0 0 0 0 0 0 0 0 0 0 3 15 23 28 48 50 58 84...  Training"
            ]
          },
          "metadata": {
            "tags": []
          },
          "execution_count": 7
        }
      ]
    },
    {
      "cell_type": "code",
      "metadata": {
        "colab": {
          "base_uri": "https://localhost:8080/"
        },
        "id": "VeBvtAigLHKs",
        "outputId": "456c3667-526c-4a63-d2b9-9ddc2febec3f"
      },
      "source": [
        "data_org.emotion.unique()"
      ],
      "execution_count": null,
      "outputs": [
        {
          "output_type": "execute_result",
          "data": {
            "text/plain": [
              "array([0, 2, 4, 6, 3, 5, 1])"
            ]
          },
          "metadata": {
            "tags": []
          },
          "execution_count": 18
        }
      ]
    },
    {
      "cell_type": "code",
      "metadata": {
        "colab": {
          "base_uri": "https://localhost:8080/",
          "height": 175
        },
        "id": "3X1fPEmTLwR5",
        "outputId": "a6d04902-5e71-42da-c0f6-642c380cab76"
      },
      "source": [
        "data_org.groupby(['Usage']).count()"
      ],
      "execution_count": null,
      "outputs": [
        {
          "output_type": "execute_result",
          "data": {
            "text/html": [
              "<div>\n",
              "<style scoped>\n",
              "    .dataframe tbody tr th:only-of-type {\n",
              "        vertical-align: middle;\n",
              "    }\n",
              "\n",
              "    .dataframe tbody tr th {\n",
              "        vertical-align: top;\n",
              "    }\n",
              "\n",
              "    .dataframe thead th {\n",
              "        text-align: right;\n",
              "    }\n",
              "</style>\n",
              "<table border=\"1\" class=\"dataframe\">\n",
              "  <thead>\n",
              "    <tr style=\"text-align: right;\">\n",
              "      <th></th>\n",
              "      <th>emotion</th>\n",
              "      <th>pixels</th>\n",
              "    </tr>\n",
              "    <tr>\n",
              "      <th>Usage</th>\n",
              "      <th></th>\n",
              "      <th></th>\n",
              "    </tr>\n",
              "  </thead>\n",
              "  <tbody>\n",
              "    <tr>\n",
              "      <th>PrivateTest</th>\n",
              "      <td>3589</td>\n",
              "      <td>3589</td>\n",
              "    </tr>\n",
              "    <tr>\n",
              "      <th>PublicTest</th>\n",
              "      <td>3589</td>\n",
              "      <td>3589</td>\n",
              "    </tr>\n",
              "    <tr>\n",
              "      <th>Training</th>\n",
              "      <td>28709</td>\n",
              "      <td>28709</td>\n",
              "    </tr>\n",
              "  </tbody>\n",
              "</table>\n",
              "</div>"
            ],
            "text/plain": [
              "             emotion  pixels\n",
              "Usage                       \n",
              "PrivateTest     3589    3589\n",
              "PublicTest      3589    3589\n",
              "Training       28709   28709"
            ]
          },
          "metadata": {
            "tags": []
          },
          "execution_count": 24
        }
      ]
    },
    {
      "cell_type": "code",
      "metadata": {
        "id": "Wwnfkz09MjX3"
      },
      "source": [
        "for i, data in data_org.groupby('Usage'):\n",
        "    data.to_csv(\"{}.csv\".format(i))"
      ],
      "execution_count": null,
      "outputs": []
    },
    {
      "cell_type": "code",
      "metadata": {
        "colab": {
          "base_uri": "https://localhost:8080/",
          "height": 424
        },
        "id": "qK4aiojkONHa",
        "outputId": "f3414442-0d5b-46a5-d421-7fa4f162574b"
      },
      "source": [
        "test_private = pd.read_csv(\"PrivateTest.csv\")\n",
        "test_private"
      ],
      "execution_count": null,
      "outputs": [
        {
          "output_type": "execute_result",
          "data": {
            "text/html": [
              "<div>\n",
              "<style scoped>\n",
              "    .dataframe tbody tr th:only-of-type {\n",
              "        vertical-align: middle;\n",
              "    }\n",
              "\n",
              "    .dataframe tbody tr th {\n",
              "        vertical-align: top;\n",
              "    }\n",
              "\n",
              "    .dataframe thead th {\n",
              "        text-align: right;\n",
              "    }\n",
              "</style>\n",
              "<table border=\"1\" class=\"dataframe\">\n",
              "  <thead>\n",
              "    <tr style=\"text-align: right;\">\n",
              "      <th></th>\n",
              "      <th>Unnamed: 0</th>\n",
              "      <th>emotion</th>\n",
              "      <th>pixels</th>\n",
              "      <th>Usage</th>\n",
              "    </tr>\n",
              "  </thead>\n",
              "  <tbody>\n",
              "    <tr>\n",
              "      <th>0</th>\n",
              "      <td>32298</td>\n",
              "      <td>0</td>\n",
              "      <td>170 118 101 88 88 75 78 82 66 74 68 59 63 64 6...</td>\n",
              "      <td>PrivateTest</td>\n",
              "    </tr>\n",
              "    <tr>\n",
              "      <th>1</th>\n",
              "      <td>32299</td>\n",
              "      <td>5</td>\n",
              "      <td>7 5 8 6 7 3 2 6 5 4 4 5 7 5 5 5 6 7 7 7 10 10 ...</td>\n",
              "      <td>PrivateTest</td>\n",
              "    </tr>\n",
              "    <tr>\n",
              "      <th>2</th>\n",
              "      <td>32300</td>\n",
              "      <td>6</td>\n",
              "      <td>232 240 241 239 237 235 246 117 24 24 22 13 12...</td>\n",
              "      <td>PrivateTest</td>\n",
              "    </tr>\n",
              "    <tr>\n",
              "      <th>3</th>\n",
              "      <td>32301</td>\n",
              "      <td>4</td>\n",
              "      <td>200 197 149 139 156 89 111 58 62 95 113 117 11...</td>\n",
              "      <td>PrivateTest</td>\n",
              "    </tr>\n",
              "    <tr>\n",
              "      <th>4</th>\n",
              "      <td>32302</td>\n",
              "      <td>2</td>\n",
              "      <td>40 28 33 56 45 33 31 78 152 194 200 186 196 20...</td>\n",
              "      <td>PrivateTest</td>\n",
              "    </tr>\n",
              "    <tr>\n",
              "      <th>...</th>\n",
              "      <td>...</td>\n",
              "      <td>...</td>\n",
              "      <td>...</td>\n",
              "      <td>...</td>\n",
              "    </tr>\n",
              "    <tr>\n",
              "      <th>3584</th>\n",
              "      <td>35882</td>\n",
              "      <td>6</td>\n",
              "      <td>50 36 17 22 23 29 33 39 34 37 37 37 39 43 48 5...</td>\n",
              "      <td>PrivateTest</td>\n",
              "    </tr>\n",
              "    <tr>\n",
              "      <th>3585</th>\n",
              "      <td>35883</td>\n",
              "      <td>3</td>\n",
              "      <td>178 174 172 173 181 188 191 194 196 199 200 20...</td>\n",
              "      <td>PrivateTest</td>\n",
              "    </tr>\n",
              "    <tr>\n",
              "      <th>3586</th>\n",
              "      <td>35884</td>\n",
              "      <td>0</td>\n",
              "      <td>17 17 16 23 28 22 19 17 25 26 20 24 31 19 27 9...</td>\n",
              "      <td>PrivateTest</td>\n",
              "    </tr>\n",
              "    <tr>\n",
              "      <th>3587</th>\n",
              "      <td>35885</td>\n",
              "      <td>3</td>\n",
              "      <td>30 28 28 29 31 30 42 68 79 81 77 67 67 71 63 6...</td>\n",
              "      <td>PrivateTest</td>\n",
              "    </tr>\n",
              "    <tr>\n",
              "      <th>3588</th>\n",
              "      <td>35886</td>\n",
              "      <td>2</td>\n",
              "      <td>19 13 14 12 13 16 21 33 50 57 71 84 97 108 122...</td>\n",
              "      <td>PrivateTest</td>\n",
              "    </tr>\n",
              "  </tbody>\n",
              "</table>\n",
              "<p>3589 rows × 4 columns</p>\n",
              "</div>"
            ],
            "text/plain": [
              "      Unnamed: 0  ...        Usage\n",
              "0          32298  ...  PrivateTest\n",
              "1          32299  ...  PrivateTest\n",
              "2          32300  ...  PrivateTest\n",
              "3          32301  ...  PrivateTest\n",
              "4          32302  ...  PrivateTest\n",
              "...          ...  ...          ...\n",
              "3584       35882  ...  PrivateTest\n",
              "3585       35883  ...  PrivateTest\n",
              "3586       35884  ...  PrivateTest\n",
              "3587       35885  ...  PrivateTest\n",
              "3588       35886  ...  PrivateTest\n",
              "\n",
              "[3589 rows x 4 columns]"
            ]
          },
          "metadata": {
            "tags": []
          },
          "execution_count": 8
        }
      ]
    },
    {
      "cell_type": "code",
      "metadata": {
        "colab": {
          "base_uri": "https://localhost:8080/",
          "height": 424
        },
        "id": "9m2Yim1MOhes",
        "outputId": "df6c1997-29a2-45f5-d21e-a1be05989da4"
      },
      "source": [
        "test_public = pd.read_csv(\"PublicTest.csv\")\n",
        "test_public"
      ],
      "execution_count": null,
      "outputs": [
        {
          "output_type": "execute_result",
          "data": {
            "text/html": [
              "<div>\n",
              "<style scoped>\n",
              "    .dataframe tbody tr th:only-of-type {\n",
              "        vertical-align: middle;\n",
              "    }\n",
              "\n",
              "    .dataframe tbody tr th {\n",
              "        vertical-align: top;\n",
              "    }\n",
              "\n",
              "    .dataframe thead th {\n",
              "        text-align: right;\n",
              "    }\n",
              "</style>\n",
              "<table border=\"1\" class=\"dataframe\">\n",
              "  <thead>\n",
              "    <tr style=\"text-align: right;\">\n",
              "      <th></th>\n",
              "      <th>Unnamed: 0</th>\n",
              "      <th>emotion</th>\n",
              "      <th>pixels</th>\n",
              "      <th>Usage</th>\n",
              "    </tr>\n",
              "  </thead>\n",
              "  <tbody>\n",
              "    <tr>\n",
              "      <th>0</th>\n",
              "      <td>28709</td>\n",
              "      <td>0</td>\n",
              "      <td>254 254 254 254 254 249 255 160 2 58 53 70 77 ...</td>\n",
              "      <td>PublicTest</td>\n",
              "    </tr>\n",
              "    <tr>\n",
              "      <th>1</th>\n",
              "      <td>28710</td>\n",
              "      <td>1</td>\n",
              "      <td>156 184 198 202 204 207 210 212 213 214 215 21...</td>\n",
              "      <td>PublicTest</td>\n",
              "    </tr>\n",
              "    <tr>\n",
              "      <th>2</th>\n",
              "      <td>28711</td>\n",
              "      <td>4</td>\n",
              "      <td>69 118 61 60 96 121 103 87 103 88 70 90 115 12...</td>\n",
              "      <td>PublicTest</td>\n",
              "    </tr>\n",
              "    <tr>\n",
              "      <th>3</th>\n",
              "      <td>28712</td>\n",
              "      <td>6</td>\n",
              "      <td>205 203 236 157 83 158 120 116 94 86 155 180 2...</td>\n",
              "      <td>PublicTest</td>\n",
              "    </tr>\n",
              "    <tr>\n",
              "      <th>4</th>\n",
              "      <td>28713</td>\n",
              "      <td>3</td>\n",
              "      <td>87 79 74 66 74 96 77 80 80 84 83 89 102 91 84 ...</td>\n",
              "      <td>PublicTest</td>\n",
              "    </tr>\n",
              "    <tr>\n",
              "      <th>...</th>\n",
              "      <td>...</td>\n",
              "      <td>...</td>\n",
              "      <td>...</td>\n",
              "      <td>...</td>\n",
              "    </tr>\n",
              "    <tr>\n",
              "      <th>3584</th>\n",
              "      <td>32293</td>\n",
              "      <td>4</td>\n",
              "      <td>178 176 172 173 173 174 176 173 166 166 206 22...</td>\n",
              "      <td>PublicTest</td>\n",
              "    </tr>\n",
              "    <tr>\n",
              "      <th>3585</th>\n",
              "      <td>32294</td>\n",
              "      <td>3</td>\n",
              "      <td>25 34 42 44 42 47 57 59 59 58 54 51 50 56 63 6...</td>\n",
              "      <td>PublicTest</td>\n",
              "    </tr>\n",
              "    <tr>\n",
              "      <th>3586</th>\n",
              "      <td>32295</td>\n",
              "      <td>4</td>\n",
              "      <td>255 255 255 255 255 255 255 255 255 255 255 25...</td>\n",
              "      <td>PublicTest</td>\n",
              "    </tr>\n",
              "    <tr>\n",
              "      <th>3587</th>\n",
              "      <td>32296</td>\n",
              "      <td>4</td>\n",
              "      <td>33 25 31 36 36 42 69 103 132 163 175 183 187 1...</td>\n",
              "      <td>PublicTest</td>\n",
              "    </tr>\n",
              "    <tr>\n",
              "      <th>3588</th>\n",
              "      <td>32297</td>\n",
              "      <td>4</td>\n",
              "      <td>61 63 59 75 151 159 166 161 143 170 127 131 18...</td>\n",
              "      <td>PublicTest</td>\n",
              "    </tr>\n",
              "  </tbody>\n",
              "</table>\n",
              "<p>3589 rows × 4 columns</p>\n",
              "</div>"
            ],
            "text/plain": [
              "      Unnamed: 0  ...       Usage\n",
              "0          28709  ...  PublicTest\n",
              "1          28710  ...  PublicTest\n",
              "2          28711  ...  PublicTest\n",
              "3          28712  ...  PublicTest\n",
              "4          28713  ...  PublicTest\n",
              "...          ...  ...         ...\n",
              "3584       32293  ...  PublicTest\n",
              "3585       32294  ...  PublicTest\n",
              "3586       32295  ...  PublicTest\n",
              "3587       32296  ...  PublicTest\n",
              "3588       32297  ...  PublicTest\n",
              "\n",
              "[3589 rows x 4 columns]"
            ]
          },
          "metadata": {
            "tags": []
          },
          "execution_count": 9
        }
      ]
    },
    {
      "cell_type": "code",
      "metadata": {
        "colab": {
          "base_uri": "https://localhost:8080/",
          "height": 424
        },
        "id": "ATKk_rrHO1MA",
        "outputId": "b4049e57-f643-4092-e0f2-7862dfd64eac"
      },
      "source": [
        "train = pd.read_csv(\"Training.csv\")\n",
        "train"
      ],
      "execution_count": null,
      "outputs": [
        {
          "output_type": "execute_result",
          "data": {
            "text/html": [
              "<div>\n",
              "<style scoped>\n",
              "    .dataframe tbody tr th:only-of-type {\n",
              "        vertical-align: middle;\n",
              "    }\n",
              "\n",
              "    .dataframe tbody tr th {\n",
              "        vertical-align: top;\n",
              "    }\n",
              "\n",
              "    .dataframe thead th {\n",
              "        text-align: right;\n",
              "    }\n",
              "</style>\n",
              "<table border=\"1\" class=\"dataframe\">\n",
              "  <thead>\n",
              "    <tr style=\"text-align: right;\">\n",
              "      <th></th>\n",
              "      <th>Unnamed: 0</th>\n",
              "      <th>emotion</th>\n",
              "      <th>pixels</th>\n",
              "      <th>Usage</th>\n",
              "    </tr>\n",
              "  </thead>\n",
              "  <tbody>\n",
              "    <tr>\n",
              "      <th>0</th>\n",
              "      <td>0</td>\n",
              "      <td>0</td>\n",
              "      <td>70 80 82 72 58 58 60 63 54 58 60 48 89 115 121...</td>\n",
              "      <td>Training</td>\n",
              "    </tr>\n",
              "    <tr>\n",
              "      <th>1</th>\n",
              "      <td>1</td>\n",
              "      <td>0</td>\n",
              "      <td>151 150 147 155 148 133 111 140 170 174 182 15...</td>\n",
              "      <td>Training</td>\n",
              "    </tr>\n",
              "    <tr>\n",
              "      <th>2</th>\n",
              "      <td>2</td>\n",
              "      <td>2</td>\n",
              "      <td>231 212 156 164 174 138 161 173 182 200 106 38...</td>\n",
              "      <td>Training</td>\n",
              "    </tr>\n",
              "    <tr>\n",
              "      <th>3</th>\n",
              "      <td>3</td>\n",
              "      <td>4</td>\n",
              "      <td>24 32 36 30 32 23 19 20 30 41 21 22 32 34 21 1...</td>\n",
              "      <td>Training</td>\n",
              "    </tr>\n",
              "    <tr>\n",
              "      <th>4</th>\n",
              "      <td>4</td>\n",
              "      <td>6</td>\n",
              "      <td>4 0 0 0 0 0 0 0 0 0 0 0 3 15 23 28 48 50 58 84...</td>\n",
              "      <td>Training</td>\n",
              "    </tr>\n",
              "    <tr>\n",
              "      <th>...</th>\n",
              "      <td>...</td>\n",
              "      <td>...</td>\n",
              "      <td>...</td>\n",
              "      <td>...</td>\n",
              "    </tr>\n",
              "    <tr>\n",
              "      <th>28704</th>\n",
              "      <td>28704</td>\n",
              "      <td>2</td>\n",
              "      <td>84 85 85 85 85 85 85 85 86 86 86 87 86 86 91 9...</td>\n",
              "      <td>Training</td>\n",
              "    </tr>\n",
              "    <tr>\n",
              "      <th>28705</th>\n",
              "      <td>28705</td>\n",
              "      <td>0</td>\n",
              "      <td>114 112 113 113 111 111 112 113 115 113 114 11...</td>\n",
              "      <td>Training</td>\n",
              "    </tr>\n",
              "    <tr>\n",
              "      <th>28706</th>\n",
              "      <td>28706</td>\n",
              "      <td>4</td>\n",
              "      <td>74 81 87 89 95 100 98 93 105 120 127 133 146 1...</td>\n",
              "      <td>Training</td>\n",
              "    </tr>\n",
              "    <tr>\n",
              "      <th>28707</th>\n",
              "      <td>28707</td>\n",
              "      <td>0</td>\n",
              "      <td>222 227 203 90 86 90 84 77 94 87 99 119 134 14...</td>\n",
              "      <td>Training</td>\n",
              "    </tr>\n",
              "    <tr>\n",
              "      <th>28708</th>\n",
              "      <td>28708</td>\n",
              "      <td>4</td>\n",
              "      <td>195 199 205 206 205 203 206 209 208 210 212 21...</td>\n",
              "      <td>Training</td>\n",
              "    </tr>\n",
              "  </tbody>\n",
              "</table>\n",
              "<p>28709 rows × 4 columns</p>\n",
              "</div>"
            ],
            "text/plain": [
              "       Unnamed: 0  ...     Usage\n",
              "0               0  ...  Training\n",
              "1               1  ...  Training\n",
              "2               2  ...  Training\n",
              "3               3  ...  Training\n",
              "4               4  ...  Training\n",
              "...           ...  ...       ...\n",
              "28704       28704  ...  Training\n",
              "28705       28705  ...  Training\n",
              "28706       28706  ...  Training\n",
              "28707       28707  ...  Training\n",
              "28708       28708  ...  Training\n",
              "\n",
              "[28709 rows x 4 columns]"
            ]
          },
          "metadata": {
            "tags": []
          },
          "execution_count": 10
        }
      ]
    },
    {
      "cell_type": "markdown",
      "metadata": {
        "id": "_btJI66qZrFL"
      },
      "source": [
        "## Emotion Distribution"
      ]
    },
    {
      "cell_type": "code",
      "metadata": {
        "id": "4ZlE8inVT5uc"
      },
      "source": [
        "emotion_label = {0: 'Angry', 1: 'Disgust', 2: 'Fear', 3: 'Happy', 4: 'Sad', 5: 'Surprise', 6: 'Neutral'}"
      ],
      "execution_count": null,
      "outputs": []
    },
    {
      "cell_type": "code",
      "metadata": {
        "colab": {
          "base_uri": "https://localhost:8080/",
          "height": 430
        },
        "id": "scnRMODVQAY3",
        "outputId": "10d8e93c-840f-45c1-d493-90b9b4f22765"
      },
      "source": [
        "import seaborn as sns\n",
        "sns.set_theme(style=\"darkgrid\")\n",
        "ax1 = sns.countplot(x=\"emotion\", data=train, palette= \"Set3\")\n",
        "ax1.set_title(\"Training Data Emotion Distribution\");\n",
        "ax1.set_xticklabels(emotion_label.values())"
      ],
      "execution_count": null,
      "outputs": [
        {
          "output_type": "execute_result",
          "data": {
            "text/plain": [
              "[Text(0, 0, 'Angry'),\n",
              " Text(0, 0, 'Disgust'),\n",
              " Text(0, 0, 'Fear'),\n",
              " Text(0, 0, 'Happy'),\n",
              " Text(0, 0, 'Sad'),\n",
              " Text(0, 0, 'Surprise'),\n",
              " Text(0, 0, 'Neutral')]"
            ]
          },
          "metadata": {
            "tags": []
          },
          "execution_count": 12
        },
        {
          "output_type": "display_data",
          "data": {
            "image/png": "[encoded data removed]",
            "text/plain": [
              "<Figure size 432x288 with 1 Axes>"
            ]
          },
          "metadata": {
            "tags": []
          }
        }
      ]
    },
    {
      "cell_type": "code",
      "metadata": {
        "colab": {
          "base_uri": "https://localhost:8080/",
          "height": 430
        },
        "id": "caa_T9QzRa0M",
        "outputId": "235a6132-812a-44c6-b283-c40438517aee"
      },
      "source": [
        "sns.set_theme(style=\"darkgrid\")\n",
        "ax2 = sns.countplot(x=\"emotion\", data=test_public, palette=\"Set2\")\n",
        "ax2.set_title(\"Test Data Emotion Distribution\");\n",
        "ax2.set_xticklabels(emotion_label.values())"
      ],
      "execution_count": null,
      "outputs": [
        {
          "output_type": "execute_result",
          "data": {
            "text/plain": [
              "[Text(0, 0, 'Angry'),\n",
              " Text(0, 0, 'Disgust'),\n",
              " Text(0, 0, 'Fear'),\n",
              " Text(0, 0, 'Happy'),\n",
              " Text(0, 0, 'Sad'),\n",
              " Text(0, 0, 'Surprise'),\n",
              " Text(0, 0, 'Neutral')]"
            ]
          },
          "metadata": {
            "tags": []
          },
          "execution_count": 13
        },
        {
          "output_type": "display_data",
          "data": {
            "image/png": "[encoded data removed]",
            "text/plain": [
              "<Figure size 432x288 with 1 Axes>"
            ]
          },
          "metadata": {
            "tags": []
          }
        }
      ]
    },
    {
      "cell_type": "code",
      "metadata": {
        "colab": {
          "base_uri": "https://localhost:8080/",
          "height": 430
        },
        "id": "vtshru0uVWaT",
        "outputId": "c40b622e-24ce-483f-e983-f8b24332b5c6"
      },
      "source": [
        "sns.set_theme(style=\"darkgrid\")\n",
        "ax3 = sns.countplot(x=\"emotion\", data=test_private, palette=\"Set1\")\n",
        "ax3.set_title(\"Validation Data Emotion Distribution\");\n",
        "ax3.set_xticklabels(emotion_label.values())"
      ],
      "execution_count": null,
      "outputs": [
        {
          "output_type": "execute_result",
          "data": {
            "text/plain": [
              "[Text(0, 0, 'Angry'),\n",
              " Text(0, 0, 'Disgust'),\n",
              " Text(0, 0, 'Fear'),\n",
              " Text(0, 0, 'Happy'),\n",
              " Text(0, 0, 'Sad'),\n",
              " Text(0, 0, 'Surprise'),\n",
              " Text(0, 0, 'Neutral')]"
            ]
          },
          "metadata": {
            "tags": []
          },
          "execution_count": 14
        },
        {
          "output_type": "display_data",
          "data": {
            "image/png": "[encoded data removed]",
            "text/plain": [
              "<Figure size 432x288 with 1 Axes>"
            ]
          },
          "metadata": {
            "tags": []
          }
        }
      ]
    },
    {
      "cell_type": "markdown",
      "metadata": {
        "id": "qQHoP4esXf9t"
      },
      "source": [
        "### Separating Training Data based on Emotions"
      ]
    },
    {
      "cell_type": "code",
      "metadata": {
        "id": "GZkL9O_2X9in",
        "colab": {
          "base_uri": "https://localhost:8080/",
          "height": 300
        },
        "outputId": "fc579c29-7a4d-4919-88c9-41b030f216fe"
      },
      "source": [
        "emotion_split = train.groupby(['emotion']).count()\n",
        "emotion_split"
      ],
      "execution_count": null,
      "outputs": [
        {
          "output_type": "execute_result",
          "data": {
            "text/html": [
              "<div>\n",
              "<style scoped>\n",
              "    .dataframe tbody tr th:only-of-type {\n",
              "        vertical-align: middle;\n",
              "    }\n",
              "\n",
              "    .dataframe tbody tr th {\n",
              "        vertical-align: top;\n",
              "    }\n",
              "\n",
              "    .dataframe thead th {\n",
              "        text-align: right;\n",
              "    }\n",
              "</style>\n",
              "<table border=\"1\" class=\"dataframe\">\n",
              "  <thead>\n",
              "    <tr style=\"text-align: right;\">\n",
              "      <th></th>\n",
              "      <th>Unnamed: 0</th>\n",
              "      <th>pixels</th>\n",
              "      <th>Usage</th>\n",
              "    </tr>\n",
              "    <tr>\n",
              "      <th>emotion</th>\n",
              "      <th></th>\n",
              "      <th></th>\n",
              "      <th></th>\n",
              "    </tr>\n",
              "  </thead>\n",
              "  <tbody>\n",
              "    <tr>\n",
              "      <th>0</th>\n",
              "      <td>3995</td>\n",
              "      <td>3995</td>\n",
              "      <td>3995</td>\n",
              "    </tr>\n",
              "    <tr>\n",
              "      <th>1</th>\n",
              "      <td>436</td>\n",
              "      <td>436</td>\n",
              "      <td>436</td>\n",
              "    </tr>\n",
              "    <tr>\n",
              "      <th>2</th>\n",
              "      <td>4097</td>\n",
              "      <td>4097</td>\n",
              "      <td>4097</td>\n",
              "    </tr>\n",
              "    <tr>\n",
              "      <th>3</th>\n",
              "      <td>7215</td>\n",
              "      <td>7215</td>\n",
              "      <td>7215</td>\n",
              "    </tr>\n",
              "    <tr>\n",
              "      <th>4</th>\n",
              "      <td>4830</td>\n",
              "      <td>4830</td>\n",
              "      <td>4830</td>\n",
              "    </tr>\n",
              "    <tr>\n",
              "      <th>5</th>\n",
              "      <td>3171</td>\n",
              "      <td>3171</td>\n",
              "      <td>3171</td>\n",
              "    </tr>\n",
              "    <tr>\n",
              "      <th>6</th>\n",
              "      <td>4965</td>\n",
              "      <td>4965</td>\n",
              "      <td>4965</td>\n",
              "    </tr>\n",
              "  </tbody>\n",
              "</table>\n",
              "</div>"
            ],
            "text/plain": [
              "         Unnamed: 0  pixels  Usage\n",
              "emotion                           \n",
              "0              3995    3995   3995\n",
              "1               436     436    436\n",
              "2              4097    4097   4097\n",
              "3              7215    7215   7215\n",
              "4              4830    4830   4830\n",
              "5              3171    3171   3171\n",
              "6              4965    4965   4965"
            ]
          },
          "metadata": {
            "tags": []
          },
          "execution_count": 16
        }
      ]
    },
    {
      "cell_type": "code",
      "metadata": {
        "id": "9Mk2ZNLQXfws"
      },
      "source": [
        "for j, dx in train.groupby('emotion'):\n",
        "    dx.to_csv(\"{}.csv\".format(j))"
      ],
      "execution_count": null,
      "outputs": []
    },
    {
      "cell_type": "code",
      "metadata": {
        "colab": {
          "base_uri": "https://localhost:8080/",
          "height": 206
        },
        "id": "_P4FST_aYMjL",
        "outputId": "35fde4e4-eed1-4256-e5f5-3216e45af6cf"
      },
      "source": [
        "#sample\n",
        "disgust = pd.read_csv(\"train/1.csv\")\n",
        "disgust.head()"
      ],
      "execution_count": null,
      "outputs": [
        {
          "output_type": "execute_result",
          "data": {
            "text/html": [
              "<div>\n",
              "<style scoped>\n",
              "    .dataframe tbody tr th:only-of-type {\n",
              "        vertical-align: middle;\n",
              "    }\n",
              "\n",
              "    .dataframe tbody tr th {\n",
              "        vertical-align: top;\n",
              "    }\n",
              "\n",
              "    .dataframe thead th {\n",
              "        text-align: right;\n",
              "    }\n",
              "</style>\n",
              "<table border=\"1\" class=\"dataframe\">\n",
              "  <thead>\n",
              "    <tr style=\"text-align: right;\">\n",
              "      <th></th>\n",
              "      <th>Unnamed: 0</th>\n",
              "      <th>Unnamed: 0.1</th>\n",
              "      <th>emotion</th>\n",
              "      <th>pixels</th>\n",
              "      <th>Usage</th>\n",
              "    </tr>\n",
              "  </thead>\n",
              "  <tbody>\n",
              "    <tr>\n",
              "      <th>0</th>\n",
              "      <td>299</td>\n",
              "      <td>299</td>\n",
              "      <td>1</td>\n",
              "      <td>126 126 129 120 110 168 174 172 173 174 170 15...</td>\n",
              "      <td>Training</td>\n",
              "    </tr>\n",
              "    <tr>\n",
              "      <th>1</th>\n",
              "      <td>388</td>\n",
              "      <td>388</td>\n",
              "      <td>1</td>\n",
              "      <td>89 55 24 40 43 48 53 55 59 41 33 31 22 32 42 4...</td>\n",
              "      <td>Training</td>\n",
              "    </tr>\n",
              "    <tr>\n",
              "      <th>2</th>\n",
              "      <td>416</td>\n",
              "      <td>416</td>\n",
              "      <td>1</td>\n",
              "      <td>204 195 181 131 50 50 57 56 66 98 138 161 173 ...</td>\n",
              "      <td>Training</td>\n",
              "    </tr>\n",
              "    <tr>\n",
              "      <th>3</th>\n",
              "      <td>473</td>\n",
              "      <td>473</td>\n",
              "      <td>1</td>\n",
              "      <td>14 11 13 12 41 95 113 112 111 122 132 137 142 ...</td>\n",
              "      <td>Training</td>\n",
              "    </tr>\n",
              "    <tr>\n",
              "      <th>4</th>\n",
              "      <td>533</td>\n",
              "      <td>533</td>\n",
              "      <td>1</td>\n",
              "      <td>18 25 49 75 89 97 100 100 101 103 105 107 107 ...</td>\n",
              "      <td>Training</td>\n",
              "    </tr>\n",
              "  </tbody>\n",
              "</table>\n",
              "</div>"
            ],
            "text/plain": [
              "   Unnamed: 0  ...     Usage\n",
              "0         299  ...  Training\n",
              "1         388  ...  Training\n",
              "2         416  ...  Training\n",
              "3         473  ...  Training\n",
              "4         533  ...  Training\n",
              "\n",
              "[5 rows x 5 columns]"
            ]
          },
          "metadata": {
            "tags": []
          },
          "execution_count": 19
        }
      ]
    },
    {
      "cell_type": "markdown",
      "metadata": {
        "id": "2Fa1qBQ1XfP3"
      },
      "source": [
        "### Separating Testing Data based on Emotions"
      ]
    },
    {
      "cell_type": "code",
      "metadata": {
        "id": "8QTLt7deZA0A"
      },
      "source": [
        "for i, data in test_public.groupby('emotion'):\n",
        "    data.to_csv(\"{}.csv\".format(i))"
      ],
      "execution_count": null,
      "outputs": []
    },
    {
      "cell_type": "code",
      "metadata": {
        "colab": {
          "base_uri": "https://localhost:8080/",
          "height": 206
        },
        "id": "XUrrOhYCZWyb",
        "outputId": "618f7d5b-c7dd-48ab-8537-3ccbfb6e830b"
      },
      "source": [
        "#sample\n",
        "happy = pd.read_csv(\"test/3.csv\")\n",
        "happy.head()"
      ],
      "execution_count": null,
      "outputs": [
        {
          "output_type": "execute_result",
          "data": {
            "text/html": [
              "<div>\n",
              "<style scoped>\n",
              "    .dataframe tbody tr th:only-of-type {\n",
              "        vertical-align: middle;\n",
              "    }\n",
              "\n",
              "    .dataframe tbody tr th {\n",
              "        vertical-align: top;\n",
              "    }\n",
              "\n",
              "    .dataframe thead th {\n",
              "        text-align: right;\n",
              "    }\n",
              "</style>\n",
              "<table border=\"1\" class=\"dataframe\">\n",
              "  <thead>\n",
              "    <tr style=\"text-align: right;\">\n",
              "      <th></th>\n",
              "      <th>Unnamed: 0</th>\n",
              "      <th>Unnamed: 0.1</th>\n",
              "      <th>emotion</th>\n",
              "      <th>pixels</th>\n",
              "      <th>Usage</th>\n",
              "    </tr>\n",
              "  </thead>\n",
              "  <tbody>\n",
              "    <tr>\n",
              "      <th>0</th>\n",
              "      <td>4</td>\n",
              "      <td>28713</td>\n",
              "      <td>3</td>\n",
              "      <td>87 79 74 66 74 96 77 80 80 84 83 89 102 91 84 ...</td>\n",
              "      <td>PublicTest</td>\n",
              "    </tr>\n",
              "    <tr>\n",
              "      <th>1</th>\n",
              "      <td>5</td>\n",
              "      <td>28714</td>\n",
              "      <td>3</td>\n",
              "      <td>235 233 223 109 34 37 34 31 28 38 56 69 106 13...</td>\n",
              "      <td>PublicTest</td>\n",
              "    </tr>\n",
              "    <tr>\n",
              "      <th>2</th>\n",
              "      <td>10</td>\n",
              "      <td>28719</td>\n",
              "      <td>3</td>\n",
              "      <td>180 175 169 161 157 158 157 154 155 157 162 16...</td>\n",
              "      <td>PublicTest</td>\n",
              "    </tr>\n",
              "    <tr>\n",
              "      <th>3</th>\n",
              "      <td>19</td>\n",
              "      <td>28728</td>\n",
              "      <td>3</td>\n",
              "      <td>22 9 17 40 41 40 28 19 39 67 84 93 97 104 103 ...</td>\n",
              "      <td>PublicTest</td>\n",
              "    </tr>\n",
              "    <tr>\n",
              "      <th>4</th>\n",
              "      <td>30</td>\n",
              "      <td>28739</td>\n",
              "      <td>3</td>\n",
              "      <td>106 121 122 124 139 138 134 134 139 141 153 15...</td>\n",
              "      <td>PublicTest</td>\n",
              "    </tr>\n",
              "  </tbody>\n",
              "</table>\n",
              "</div>"
            ],
            "text/plain": [
              "   Unnamed: 0  ...       Usage\n",
              "0           4  ...  PublicTest\n",
              "1           5  ...  PublicTest\n",
              "2          10  ...  PublicTest\n",
              "3          19  ...  PublicTest\n",
              "4          30  ...  PublicTest\n",
              "\n",
              "[5 rows x 5 columns]"
            ]
          },
          "metadata": {
            "tags": []
          },
          "execution_count": 20
        }
      ]
    },
    {
      "cell_type": "markdown",
      "metadata": {
        "id": "ZsVqV6afXUc2"
      },
      "source": [
        "### Separating Validation data based on emotions"
      ]
    },
    {
      "cell_type": "code",
      "metadata": {
        "id": "fMq5ZfIQWgqq"
      },
      "source": [
        "for i, data in test_private.groupby('emotion'):\n",
        "    data.to_csv(\"{}.csv\".format(i))"
      ],
      "execution_count": null,
      "outputs": []
    },
    {
      "cell_type": "code",
      "metadata": {
        "colab": {
          "base_uri": "https://localhost:8080/",
          "height": 206
        },
        "id": "vq9tStMdWxA4",
        "outputId": "98b41651-834f-489d-8de5-814fa46ad954"
      },
      "source": [
        "#sample\n",
        "neutral = pd.read_csv(\"validation/6.csv\")\n",
        "neutral.head()"
      ],
      "execution_count": null,
      "outputs": [
        {
          "output_type": "execute_result",
          "data": {
            "text/html": [
              "<div>\n",
              "<style scoped>\n",
              "    .dataframe tbody tr th:only-of-type {\n",
              "        vertical-align: middle;\n",
              "    }\n",
              "\n",
              "    .dataframe tbody tr th {\n",
              "        vertical-align: top;\n",
              "    }\n",
              "\n",
              "    .dataframe thead th {\n",
              "        text-align: right;\n",
              "    }\n",
              "</style>\n",
              "<table border=\"1\" class=\"dataframe\">\n",
              "  <thead>\n",
              "    <tr style=\"text-align: right;\">\n",
              "      <th></th>\n",
              "      <th>Unnamed: 0</th>\n",
              "      <th>Unnamed: 0.1</th>\n",
              "      <th>emotion</th>\n",
              "      <th>pixels</th>\n",
              "      <th>Usage</th>\n",
              "    </tr>\n",
              "  </thead>\n",
              "  <tbody>\n",
              "    <tr>\n",
              "      <th>0</th>\n",
              "      <td>2</td>\n",
              "      <td>32300</td>\n",
              "      <td>6</td>\n",
              "      <td>232 240 241 239 237 235 246 117 24 24 22 13 12...</td>\n",
              "      <td>PrivateTest</td>\n",
              "    </tr>\n",
              "    <tr>\n",
              "      <th>1</th>\n",
              "      <td>15</td>\n",
              "      <td>32313</td>\n",
              "      <td>6</td>\n",
              "      <td>0 0 0 0 0 0 0 0 0 0 0 0 0 0 0 0 0 0 0 0 0 0 0 ...</td>\n",
              "      <td>PrivateTest</td>\n",
              "    </tr>\n",
              "    <tr>\n",
              "      <th>2</th>\n",
              "      <td>21</td>\n",
              "      <td>32319</td>\n",
              "      <td>6</td>\n",
              "      <td>22 18 17 17 26 35 26 18 22 22 18 19 14 22 24 2...</td>\n",
              "      <td>PrivateTest</td>\n",
              "    </tr>\n",
              "    <tr>\n",
              "      <th>3</th>\n",
              "      <td>23</td>\n",
              "      <td>32321</td>\n",
              "      <td>6</td>\n",
              "      <td>77 79 75 74 79 85 85 80 139 214 212 187 190 20...</td>\n",
              "      <td>PrivateTest</td>\n",
              "    </tr>\n",
              "    <tr>\n",
              "      <th>4</th>\n",
              "      <td>27</td>\n",
              "      <td>32325</td>\n",
              "      <td>6</td>\n",
              "      <td>186 184 186 185 176 174 177 171 171 176 169 15...</td>\n",
              "      <td>PrivateTest</td>\n",
              "    </tr>\n",
              "  </tbody>\n",
              "</table>\n",
              "</div>"
            ],
            "text/plain": [
              "   Unnamed: 0  ...        Usage\n",
              "0           2  ...  PrivateTest\n",
              "1          15  ...  PrivateTest\n",
              "2          21  ...  PrivateTest\n",
              "3          23  ...  PrivateTest\n",
              "4          27  ...  PrivateTest\n",
              "\n",
              "[5 rows x 5 columns]"
            ]
          },
          "metadata": {
            "tags": []
          },
          "execution_count": 21
        }
      ]
    },
    {
      "cell_type": "markdown",
      "metadata": {
        "id": "SSL5CGiYr3D2"
      },
      "source": [
        "#Creating Images for available data emotions "
      ]
    },
    {
      "cell_type": "markdown",
      "metadata": {
        "id": "pK9m44RhqSH2"
      },
      "source": [
        "## Converting pixel information to image"
      ]
    },
    {
      "cell_type": "code",
      "metadata": {
        "id": "xu_ie0evfMtW"
      },
      "source": [
        "def pixel_to_img(path, data_df):\n",
        "  tosave_path = path\n",
        "  data = data_df\n",
        "  for i in range(len(data)):\n",
        "    x = np.array(data.pixels[i].split(\" \")).reshape(48,48).astype('float')\n",
        "    #pyplot.figure()\n",
        "    #pyplot.imshow(x)\n",
        "    fname = path.strip('/')\n",
        "    filename = fname+str(i)+\".jpg\"\n",
        "    pyplot.imsave(path+filename, x)"
      ],
      "execution_count": null,
      "outputs": []
    },
    {
      "cell_type": "markdown",
      "metadata": {
        "id": "1q0OZNA3PFwQ"
      },
      "source": [
        "#### Conversion for Train Data"
      ]
    },
    {
      "cell_type": "code",
      "metadata": {
        "colab": {
          "base_uri": "https://localhost:8080/"
        },
        "id": "6SHrGuqlPEZa",
        "outputId": "b6569bc7-dcb9-4e57-a3e9-b0fe98a575ca"
      },
      "source": [
        "%cd train/"
      ],
      "execution_count": null,
      "outputs": [
        {
          "output_type": "stream",
          "text": [
            "/content/drive/MyDrive/facial_expression/train\n"
          ],
          "name": "stdout"
        }
      ]
    },
    {
      "cell_type": "code",
      "metadata": {
        "id": "outh-FzKPEIS"
      },
      "source": [
        "train_angry = pd.read_csv('0.csv')\n",
        "pixel_to_img('angry/',train_angry)"
      ],
      "execution_count": null,
      "outputs": []
    },
    {
      "cell_type": "code",
      "metadata": {
        "id": "xogopdVZpl_A"
      },
      "source": [
        "train_disgust = pd.read_csv('1.csv')\n",
        "pixel_to_img('disgust/',train_disgust)"
      ],
      "execution_count": null,
      "outputs": []
    },
    {
      "cell_type": "code",
      "metadata": {
        "id": "QoLrCcQ5qF7U"
      },
      "source": [
        "train_fear = pd.read_csv('2.csv')\n",
        "pixel_to_img('fear/',train_fear)"
      ],
      "execution_count": null,
      "outputs": []
    },
    {
      "cell_type": "code",
      "metadata": {
        "id": "IYEHwxUKqFw8"
      },
      "source": [
        "train_happy = pd.read_csv('3.csv')\n",
        "pixel_to_img('happy/',train_happy)"
      ],
      "execution_count": null,
      "outputs": []
    },
    {
      "cell_type": "code",
      "metadata": {
        "id": "-RXYIzC7qFka"
      },
      "source": [
        "train_sad = pd.read_csv('4.csv')\n",
        "pixel_to_img('sad/',train_sad)"
      ],
      "execution_count": null,
      "outputs": []
    },
    {
      "cell_type": "code",
      "metadata": {
        "id": "dmjB0zIKxJ2o"
      },
      "source": [
        "train_suprise = pd.read_csv('5.csv')\n",
        "pixel_to_img('suprise/',train_suprise)"
      ],
      "execution_count": null,
      "outputs": []
    },
    {
      "cell_type": "code",
      "metadata": {
        "id": "EhkIil9P2kaH"
      },
      "source": [
        "train_neutral = pd.read_csv('6.csv')\n",
        "pixel_to_img('neutral/',train_neutral)"
      ],
      "execution_count": null,
      "outputs": []
    },
    {
      "cell_type": "markdown",
      "metadata": {
        "id": "Xq7LfpeaDA7H"
      },
      "source": [
        "#### Conversion for Test Data\n"
      ]
    },
    {
      "cell_type": "code",
      "metadata": {
        "id": "08wVyjS8HTNJ"
      },
      "source": [
        "test_angry = pd.read_csv('0.csv')\n",
        "pixel_to_img('angry/',test_angry)"
      ],
      "execution_count": null,
      "outputs": []
    },
    {
      "cell_type": "code",
      "metadata": {
        "id": "pzQCrMzXKf2N"
      },
      "source": [
        "test_disgust = pd.read_csv('1.csv')\n",
        "pixel_to_img('disgust/',test_disgust)"
      ],
      "execution_count": null,
      "outputs": []
    },
    {
      "cell_type": "code",
      "metadata": {
        "id": "NYNWe60xHTGj"
      },
      "source": [
        "test_fear = pd.read_csv('2.csv')\n",
        "pixel_to_img('fear/',test_fear)"
      ],
      "execution_count": null,
      "outputs": []
    },
    {
      "cell_type": "code",
      "metadata": {
        "id": "M4VYrjxLHTDF"
      },
      "source": [
        "test_happy = pd.read_csv('3.csv')\n",
        "pixel_to_img('happy/',test_happy)"
      ],
      "execution_count": null,
      "outputs": []
    },
    {
      "cell_type": "code",
      "metadata": {
        "id": "le_5ECZpHTAv"
      },
      "source": [
        "test_sad = pd.read_csv('4.csv')\n",
        "pixel_to_img('sad/',test_sad)"
      ],
      "execution_count": null,
      "outputs": []
    },
    {
      "cell_type": "code",
      "metadata": {
        "id": "LU9CXuXXHSsq"
      },
      "source": [
        "test_suprise = pd.read_csv('5.csv')\n",
        "pixel_to_img('suprise/',test_suprise)"
      ],
      "execution_count": null,
      "outputs": []
    },
    {
      "cell_type": "code",
      "metadata": {
        "id": "RuhTUlecOluE"
      },
      "source": [
        "test_neutral = pd.read_csv('6.csv')\n",
        "pixel_to_img('neutral/',test_neutral)"
      ],
      "execution_count": null,
      "outputs": []
    },
    {
      "cell_type": "markdown",
      "metadata": {
        "id": "3ONUV6cJ3kWo"
      },
      "source": [
        "#### Conversion for Validation data"
      ]
    },
    {
      "cell_type": "code",
      "metadata": {
        "id": "G40w2C0useNV"
      },
      "source": [
        "v_angry = pd.read_csv('0.csv')\n",
        "pixel_to_img('angry/',v_angry)"
      ],
      "execution_count": null,
      "outputs": []
    },
    {
      "cell_type": "code",
      "metadata": {
        "id": "dAEG0V9aseDq"
      },
      "source": [
        "v_disgust = pd.read_csv('1.csv')\n",
        "pixel_to_img('disgust/',v_disgust)"
      ],
      "execution_count": null,
      "outputs": []
    },
    {
      "cell_type": "code",
      "metadata": {
        "id": "0yUpb_iP0FOF"
      },
      "source": [
        "v_fear = pd.read_csv('2.csv')\n",
        "pixel_to_img('fear/',v_fear)"
      ],
      "execution_count": null,
      "outputs": []
    },
    {
      "cell_type": "code",
      "metadata": {
        "id": "UGOjA27G0FFQ"
      },
      "source": [
        "v_happy = pd.read_csv('3.csv')\n",
        "pixel_to_img('happy/',v_happy)"
      ],
      "execution_count": null,
      "outputs": []
    },
    {
      "cell_type": "code",
      "metadata": {
        "id": "lqTcM90w0E3t"
      },
      "source": [
        "v_sad = pd.read_csv('4.csv')\n",
        "pixel_to_img('sad/',v_sad)"
      ],
      "execution_count": null,
      "outputs": []
    },
    {
      "cell_type": "code",
      "metadata": {
        "id": "tYfW7wkO3jmL"
      },
      "source": [
        "v_suprise = pd.read_csv('5.csv')\n",
        "pixel_to_img('suprise/',v_suprise)"
      ],
      "execution_count": null,
      "outputs": []
    },
    {
      "cell_type": "code",
      "metadata": {
        "id": "9sxxRJup5qH7"
      },
      "source": [
        "v_neutral = pd.read_csv('6.csv')\n",
        "pixel_to_img('neutral/',v_neutral)"
      ],
      "execution_count": null,
      "outputs": []
    },
    {
      "cell_type": "markdown",
      "metadata": {
        "id": "Rts5LeSQpa3H"
      },
      "source": [
        "## Converting Images to Gray Scale Images - Batch Conversion"
      ]
    },
    {
      "cell_type": "code",
      "metadata": {
        "id": "jS-mLRp4mdDJ"
      },
      "source": [
        "direc = os.listdir(input_folder)\n",
        "for i in direc:\n",
        "    img = Image.open(input_folder+i)\n",
        "    grayimg = img.convert('L')\n",
        "    grayimg.save(output_folder+i)"
      ],
      "execution_count": null,
      "outputs": []
    },
    {
      "cell_type": "markdown",
      "metadata": {
        "id": "I7kb-XSX3ZMH"
      },
      "source": [
        "#### Path for Data - GrayScale"
      ]
    },
    {
      "cell_type": "code",
      "metadata": {
        "id": "z5IVbHHDpYLJ"
      },
      "source": [
        "input_folder = './angry/'\n",
        "output_folder = './angry_BW/'"
      ],
      "execution_count": null,
      "outputs": []
    },
    {
      "cell_type": "code",
      "metadata": {
        "id": "hztL8W2M0_Ed"
      },
      "source": [
        "input_folder = './disgust/'\n",
        "output_folder = './disgust_BW/'"
      ],
      "execution_count": null,
      "outputs": []
    },
    {
      "cell_type": "code",
      "metadata": {
        "id": "j7NCYpNq1FE8"
      },
      "source": [
        "input_folder = './fear/'\n",
        "output_folder = './fear_BW/'"
      ],
      "execution_count": null,
      "outputs": []
    },
    {
      "cell_type": "code",
      "metadata": {
        "id": "vWEUOGTw2OX6"
      },
      "source": [
        "input_folder = './happy/'\n",
        "output_folder = './happy_BW/'"
      ],
      "execution_count": null,
      "outputs": []
    },
    {
      "cell_type": "code",
      "metadata": {
        "id": "Egka3abf210t"
      },
      "source": [
        "input_folder = './sad/'\n",
        "output_folder = './sad_BW/'"
      ],
      "execution_count": null,
      "outputs": []
    },
    {
      "cell_type": "code",
      "metadata": {
        "id": "Slr_qJOW3XTe"
      },
      "source": [
        "input_folder = './suprise/'\n",
        "output_folder = './suprise_BW/'"
      ],
      "execution_count": null,
      "outputs": []
    },
    {
      "cell_type": "code",
      "metadata": {
        "id": "yH3WTJYX5fdZ"
      },
      "source": [
        "input_folder = './neutral/'\n",
        "output_folder = './neutral_BW/'"
      ],
      "execution_count": null,
      "outputs": []
    },
    {
      "cell_type": "markdown",
      "metadata": {
        "id": "G31LIy7BCe1G"
      },
      "source": [
        "#**Building a two class classification model**"
      ]
    },
    {
      "cell_type": "markdown",
      "metadata": {
        "id": "oOyHq2ojXNpu"
      },
      "source": [
        "### Helper function to analyze number of images in each folder"
      ]
    },
    {
      "cell_type": "code",
      "metadata": {
        "id": "0jQ7I8zkXDFB"
      },
      "source": [
        "def count_exp(path, name):\n",
        "    d = {}\n",
        "    for emotion in os.listdir(path):\n",
        "        direc = path + emotion\n",
        "        d[emotion] = len(os.listdir(direc))\n",
        "    df = pd.DataFrame(d, index=[name])\n",
        "    return df"
      ],
      "execution_count": 13,
      "outputs": []
    },
    {
      "cell_type": "code",
      "metadata": {
        "colab": {
          "base_uri": "https://localhost:8080/"
        },
        "id": "oLYyjE0yX1uY",
        "outputId": "6cac01a1-1340-4308-c200-b701a18ae318"
      },
      "source": [
        "train_path = '/content/drive/MyDrive/facial_expression/data/train/'\n",
        "test_path = '/content/drive/MyDrive/facial_expression/data/test/'\n",
        "\n",
        "train_img_count = count_exp(train_path, 'train')\n",
        "test_img_count = count_exp(test_path, 'test')\n",
        "\n",
        "print(train_img_count)\n",
        "print(test_img_count)"
      ],
      "execution_count": 14,
      "outputs": [
        {
          "output_type": "stream",
          "text": [
            "       angry  surprise\n",
            "train   3995      3171\n",
            "      angry_BW  suprise_BW\n",
            "test       467         415\n"
          ],
          "name": "stdout"
        }
      ]
    },
    {
      "cell_type": "markdown",
      "metadata": {
        "id": "Wm3EqB1gZtZs"
      },
      "source": [
        "### Visualizing Images in Train and Test directories"
      ]
    },
    {
      "cell_type": "code",
      "metadata": {
        "colab": {
          "base_uri": "https://localhost:8080/",
          "height": 142
        },
        "id": "AZNEMsrZVrUY",
        "outputId": "8f351961-e872-4a58-b1fa-4b3238a412fa"
      },
      "source": [
        "plt.figure(figsize=(14,22))\n",
        "i = 1\n",
        "for e in os.listdir(train_path):\n",
        "    img = load_img((train_path + e +'/'+ os.listdir(train_path + e)[5]))\n",
        "    plt.subplot(1,7,i)\n",
        "    plt.imshow(img)\n",
        "    plt.title(e)\n",
        "    plt.axis('off')\n",
        "    i += 1\n",
        "plt.show()"
      ],
      "execution_count": 15,
      "outputs": [
        {
          "output_type": "display_data",
          "data": {
            "image/png": "[encoded data removed]",
            "text/plain": [
              "<Figure size 1008x1584 with 2 Axes>"
            ]
          },
          "metadata": {
            "tags": [],
            "needs_background": "light"
          }
        }
      ]
    },
    {
      "cell_type": "code",
      "metadata": {
        "colab": {
          "base_uri": "https://localhost:8080/",
          "height": 142
        },
        "id": "dJ5F-Gn4VrM6",
        "outputId": "34e78025-8c75-4bc0-9fce-6664d7b547dd"
      },
      "source": [
        "plt.figure(figsize=(14,22))\n",
        "i = 1\n",
        "for e in os.listdir(test_path):\n",
        "    img = load_img((test_path + e +'/'+ os.listdir(test_path + e)[5]))\n",
        "    plt.subplot(1,7,i)\n",
        "    plt.imshow(img)\n",
        "    plt.title(e)\n",
        "    plt.axis('off')\n",
        "    i += 1\n",
        "plt.show()"
      ],
      "execution_count": 16,
      "outputs": [
        {
          "output_type": "display_data",
          "data": {
            "image/png": "[encoded data removed]",
            "text/plain": [
              "<Figure size 1008x1584 with 2 Axes>"
            ]
          },
          "metadata": {
            "tags": [],
            "needs_background": "light"
          }
        }
      ]
    },
    {
      "cell_type": "code",
      "metadata": {
        "colab": {
          "base_uri": "https://localhost:8080/"
        },
        "id": "HIEdzvC6aqTl",
        "outputId": "8f844ced-70ab-4f4f-849c-1a7743e14160"
      },
      "source": [
        "train_data_gen = ImageDataGenerator(rescale=1./255,\n",
        "                                   zoom_range=0.3,\n",
        "                                   horizontal_flip=True)\n",
        "\n",
        "train_set = train_data_gen.flow_from_directory(train_path, \n",
        "                                                 batch_size=64, \n",
        "                                                 target_size=(48,48), \n",
        "                                                 shuffle=True, \n",
        "                                                 color_mode='grayscale', \n",
        "                                                 class_mode='categorical')"
      ],
      "execution_count": 17,
      "outputs": [
        {
          "output_type": "stream",
          "text": [
            "Found 7166 images belonging to 2 classes.\n"
          ],
          "name": "stdout"
        }
      ]
    },
    {
      "cell_type": "code",
      "metadata": {
        "colab": {
          "base_uri": "https://localhost:8080/"
        },
        "id": "ed-TK_-KVrI8",
        "outputId": "5c13d41a-5ee7-4243-d884-6023980631c7"
      },
      "source": [
        "test_data_gen = ImageDataGenerator(rescale=1./255)\n",
        "\n",
        "test_set = test_data_gen.flow_from_directory(test_path, \n",
        "                                                 batch_size=64, \n",
        "                                                 target_size=(48,48), \n",
        "                                                 shuffle=True, \n",
        "                                                 color_mode='grayscale', \n",
        "                                                 class_mode='categorical')"
      ],
      "execution_count": 18,
      "outputs": [
        {
          "output_type": "stream",
          "text": [
            "Found 882 images belonging to 2 classes.\n"
          ],
          "name": "stdout"
        }
      ]
    },
    {
      "cell_type": "code",
      "metadata": {
        "colab": {
          "base_uri": "https://localhost:8080/"
        },
        "id": "VLr4KoAucfpw",
        "outputId": "c889e43f-ca23-475f-979b-fd5f62e758d1"
      },
      "source": [
        "train_set.class_indices"
      ],
      "execution_count": 19,
      "outputs": [
        {
          "output_type": "execute_result",
          "data": {
            "text/plain": [
              "{'angry': 0, 'surprise': 1}"
            ]
          },
          "metadata": {
            "tags": []
          },
          "execution_count": 19
        }
      ]
    },
    {
      "cell_type": "code",
      "metadata": {
        "colab": {
          "base_uri": "https://localhost:8080/"
        },
        "id": "_wn0hHwccflj",
        "outputId": "4d3cc4b5-00b3-49cf-ea25-61871749b76e"
      },
      "source": [
        "test_set.class_indices"
      ],
      "execution_count": 20,
      "outputs": [
        {
          "output_type": "execute_result",
          "data": {
            "text/plain": [
              "{'angry_BW': 0, 'suprise_BW': 1}"
            ]
          },
          "metadata": {
            "tags": []
          },
          "execution_count": 20
        }
      ]
    },
    {
      "cell_type": "code",
      "metadata": {
        "id": "lriYo2BMcfiE"
      },
      "source": [
        "def model_cnn(input_size, classes):\n",
        "    model = tf.keras.models.Sequential()   \n",
        "\n",
        "    model.add(Conv2D(32, kernel_size=(3, 3), padding='same', activation='relu', input_shape =input_size))\n",
        "    model.add(Conv2D(64, kernel_size=(3, 3), activation='relu', padding='same'))\n",
        "    model.add(BatchNormalization())\n",
        "    model.add(MaxPooling2D(2, 2))\n",
        "    model.add(Dropout(0.25))\n",
        "\n",
        "    model.add(Conv2D(128, kernel_size=(3, 3), activation='relu', padding='same', kernel_regularizer=regularizers.l2(0.01)))\n",
        "    model.add(Conv2D(256, kernel_size=(3, 3), activation='relu', kernel_regularizer=regularizers.l2(0.01)))\n",
        "    model.add(BatchNormalization())\n",
        "    model.add(MaxPooling2D(pool_size=(2, 2)))\n",
        "    model.add(Dropout(0.25))\n",
        "    \n",
        "    model.add(Conv2D(512, kernel_size=(3,3), activation='relu', padding='same', kernel_regularizer=regularizers.l2(0.01)))\n",
        "    model.add(Conv2D(512, kernel_size=(3,3), activation='relu', padding='same', kernel_regularizer=regularizers.l2(0.01)))\n",
        "    model.add(BatchNormalization())\n",
        "    model.add(MaxPooling2D(pool_size=(2, 2)))\n",
        "    model.add(Dropout(0.25))\n",
        "    \n",
        "    model.add(Flatten())\n",
        "    model.add(Dense(1024, activation='relu'))\n",
        "    model.add(Dropout(0.5))\n",
        "    \n",
        "    model.add(Dense(classes, activation='softmax'))\n",
        "\n",
        "    #Compliling the model\n",
        "    model.compile(optimizer=Adam(lr=0.0001, decay=1e-6), \n",
        "                  loss='categorical_crossentropy', \n",
        "                  metrics=['accuracy'])\n",
        "    return model"
      ],
      "execution_count": 21,
      "outputs": []
    },
    {
      "cell_type": "code",
      "metadata": {
        "colab": {
          "base_uri": "https://localhost:8080/"
        },
        "id": "JOG_xmMbcfeE",
        "outputId": "3414299b-fa39-4991-cecf-2a5dd1122b0f"
      },
      "source": [
        "row, col = 48, 48\n",
        "classes = 2\n",
        "FER_model = model_cnn((row,col,1), classes)"
      ],
      "execution_count": 22,
      "outputs": [
        {
          "output_type": "stream",
          "text": [
            "/usr/local/lib/python3.7/dist-packages/tensorflow/python/keras/optimizer_v2/optimizer_v2.py:375: UserWarning: The `lr` argument is deprecated, use `learning_rate` instead.\n",
            "  \"The `lr` argument is deprecated, use `learning_rate` instead.\")\n"
          ],
          "name": "stderr"
        }
      ]
    },
    {
      "cell_type": "code",
      "metadata": {
        "colab": {
          "base_uri": "https://localhost:8080/"
        },
        "id": "Ab04G4TWcfWF",
        "outputId": "7642b1c6-e906-4b02-87aa-4225ca55f6fb"
      },
      "source": [
        "hist = FER_model.fit(x=train_set,\n",
        "                 validation_data=test_set,\n",
        "                 epochs=20)"
      ],
      "execution_count": 23,
      "outputs": [
        {
          "output_type": "stream",
          "text": [
            "Epoch 1/20\n",
            "112/112 [==============================] - 2273s 20s/step - loss: 1.0829 - accuracy: 0.6499 - val_loss: 2.0973 - val_accuracy: 0.4705\n",
            "Epoch 2/20\n",
            "112/112 [==============================] - 13s 116ms/step - loss: 0.5855 - accuracy: 0.7258 - val_loss: 3.3565 - val_accuracy: 0.4705\n",
            "Epoch 3/20\n",
            "112/112 [==============================] - 13s 115ms/step - loss: 0.5186 - accuracy: 0.7577 - val_loss: 1.1985 - val_accuracy: 0.4705\n",
            "Epoch 4/20\n",
            "112/112 [==============================] - 13s 115ms/step - loss: 0.4959 - accuracy: 0.7728 - val_loss: 0.7015 - val_accuracy: 0.6338\n",
            "Epoch 5/20\n",
            "112/112 [==============================] - 13s 116ms/step - loss: 0.4676 - accuracy: 0.7823 - val_loss: 0.5649 - val_accuracy: 0.7608\n",
            "Epoch 6/20\n",
            "112/112 [==============================] - 13s 115ms/step - loss: 0.4556 - accuracy: 0.7933 - val_loss: 0.6580 - val_accuracy: 0.7551\n",
            "Epoch 7/20\n",
            "112/112 [==============================] - 13s 113ms/step - loss: 0.4282 - accuracy: 0.8052 - val_loss: 0.4293 - val_accuracy: 0.8197\n",
            "Epoch 8/20\n",
            "112/112 [==============================] - 13s 114ms/step - loss: 0.4125 - accuracy: 0.8187 - val_loss: 0.4335 - val_accuracy: 0.8163\n",
            "Epoch 9/20\n",
            "112/112 [==============================] - 13s 115ms/step - loss: 0.4061 - accuracy: 0.8208 - val_loss: 0.3969 - val_accuracy: 0.8356\n",
            "Epoch 10/20\n",
            "112/112 [==============================] - 13s 115ms/step - loss: 0.3961 - accuracy: 0.8212 - val_loss: 0.4058 - val_accuracy: 0.8379\n",
            "Epoch 11/20\n",
            "112/112 [==============================] - 13s 114ms/step - loss: 0.3778 - accuracy: 0.8337 - val_loss: 0.3528 - val_accuracy: 0.8515\n",
            "Epoch 12/20\n",
            "112/112 [==============================] - 13s 114ms/step - loss: 0.3657 - accuracy: 0.8444 - val_loss: 0.3628 - val_accuracy: 0.8492\n",
            "Epoch 13/20\n",
            "112/112 [==============================] - 13s 117ms/step - loss: 0.3574 - accuracy: 0.8440 - val_loss: 0.4120 - val_accuracy: 0.8424\n",
            "Epoch 14/20\n",
            "112/112 [==============================] - 13s 113ms/step - loss: 0.3470 - accuracy: 0.8550 - val_loss: 0.3679 - val_accuracy: 0.8469\n",
            "Epoch 15/20\n",
            "112/112 [==============================] - 13s 115ms/step - loss: 0.3345 - accuracy: 0.8591 - val_loss: 0.3576 - val_accuracy: 0.8651\n",
            "Epoch 16/20\n",
            "112/112 [==============================] - 13s 113ms/step - loss: 0.3187 - accuracy: 0.8697 - val_loss: 0.4054 - val_accuracy: 0.8231\n",
            "Epoch 17/20\n",
            "112/112 [==============================] - 13s 114ms/step - loss: 0.3088 - accuracy: 0.8697 - val_loss: 0.3586 - val_accuracy: 0.8571\n",
            "Epoch 18/20\n",
            "112/112 [==============================] - 13s 113ms/step - loss: 0.3103 - accuracy: 0.8736 - val_loss: 0.3438 - val_accuracy: 0.8549\n",
            "Epoch 19/20\n",
            "112/112 [==============================] - 13s 114ms/step - loss: 0.2939 - accuracy: 0.8745 - val_loss: 0.3191 - val_accuracy: 0.8787\n",
            "Epoch 20/20\n",
            "112/112 [==============================] - 13s 113ms/step - loss: 0.3035 - accuracy: 0.8740 - val_loss: 0.3192 - val_accuracy: 0.8685\n"
          ],
          "name": "stdout"
        }
      ]
    },
    {
      "cell_type": "markdown",
      "metadata": {
        "id": "20TjYe9VhlKs"
      },
      "source": [
        "### Visualizing Model Accuracy"
      ]
    },
    {
      "cell_type": "code",
      "metadata": {
        "colab": {
          "base_uri": "https://localhost:8080/",
          "height": 350
        },
        "id": "LAPFA3XrcfPp",
        "outputId": "d82efd21-f0a4-4188-eb78-852d35df7290"
      },
      "source": [
        "plt.figure(figsize=(14,5))\n",
        "plt.subplot(1,2,2)\n",
        "plt.plot(hist.history['accuracy'])\n",
        "plt.plot(hist.history['val_accuracy'])\n",
        "plt.title('Model Accuracy')\n",
        "plt.xlabel('Epochs')\n",
        "plt.ylabel('Accuracy')\n",
        "plt.legend(['train', 'test'], loc='upper left')\n",
        "\n",
        "plt.subplot(1,2,1)\n",
        "plt.plot(hist.history['loss'])\n",
        "plt.plot(hist.history['val_loss'])\n",
        "plt.title('Model Loss')\n",
        "plt.xlabel('Epochs')\n",
        "plt.ylabel('Loss')\n",
        "plt.legend(['train', 'test'], loc='upper left')\n",
        "plt.show()"
      ],
      "execution_count": 24,
      "outputs": [
        {
          "output_type": "display_data",
          "data": {
            "image/png": "[encoded data removed]",
            "text/plain": [
              "<Figure size 1008x360 with 2 Axes>"
            ]
          },
          "metadata": {
            "tags": [],
            "needs_background": "light"
          }
        }
      ]
    },
    {
      "cell_type": "code",
      "metadata": {
        "colab": {
          "base_uri": "https://localhost:8080/"
        },
        "id": "_kpbc8f67rFU",
        "outputId": "a037bbd4-87e9-4cae-8e05-da0ae7ecb2d9"
      },
      "source": [
        "train_loss, train_accu = FER_model.evaluate(train_set)\n",
        "test_loss, test_accu = FER_model.evaluate(test_set)\n",
        "print(\"Train accuracy = {:.2f} , Validation accuracy = {:.2f}\".format(train_accu*100, test_accu*100))"
      ],
      "execution_count": 27,
      "outputs": [
        {
          "output_type": "stream",
          "text": [
            "112/112 [==============================] - 11s 99ms/step - loss: 0.2760 - accuracy: 0.8896\n",
            "14/14 [==============================] - 1s 76ms/step - loss: 0.3192 - accuracy: 0.8685\n",
            "Train accuracy = 88.96 , Validation accuracy = 86.85\n"
          ],
          "name": "stdout"
        }
      ]
    },
    {
      "cell_type": "code",
      "metadata": {
        "id": "LGY7ts0W79tI"
      },
      "source": [
        "FER_model.save_weights('fer_model_best.h5')"
      ],
      "execution_count": 26,
      "outputs": []
    }
  ]
}